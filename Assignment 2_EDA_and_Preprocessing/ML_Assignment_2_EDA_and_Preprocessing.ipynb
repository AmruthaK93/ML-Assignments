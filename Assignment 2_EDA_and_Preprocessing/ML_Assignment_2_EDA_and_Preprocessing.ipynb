{
 "cells": [
  {
   "cell_type": "markdown",
   "id": "994be4c0-527c-4cf6-82ac-23f1725d3e3f",
   "metadata": {},
   "source": [
    "## EDA and Preprocessing"
   ]
  },
  {
   "cell_type": "markdown",
   "id": "b203defa-6b84-4932-9260-8e167e957f86",
   "metadata": {},
   "source": [
    "\n",
    "\n",
    "Objective:\n",
    "The main objective of this project is to design and implement a robust data preprocessing system that addresses common challenges such as missing values, outliers, inconsistent formatting, and noise. By performing effective data preprocessing, the project aims to enhance the quality, reliability, and usefulness of the data for machine learning.\n"
   ]
  },
  {
   "cell_type": "code",
   "execution_count": 3,
   "id": "6217ef99-a2df-41aa-a27d-13243979a768",
   "metadata": {},
   "outputs": [],
   "source": [
    "# importing the necessary libraries\n",
    "import pandas as pd\n",
    "import numpy as np\n",
    "import seaborn as sns\n",
    "import matplotlib.pyplot as plt"
   ]
  },
  {
   "cell_type": "code",
   "execution_count": 56,
   "id": "674c6e1a-6b1f-401f-a063-29f4a68e80ee",
   "metadata": {},
   "outputs": [],
   "source": [
    "# for xtrain and x test splitting\n",
    "from sklearn.model_selection import train_test_split\n",
    "\n",
    "# for scaling\n",
    "from sklearn.preprocessing import StandardScaler, OneHotEncoder, LabelEncoder, MinMaxScaler\n",
    "\n",
    "# for feature selection\n",
    "from sklearn.feature_selection import SelectKBest, f_classif\n",
    "\n",
    "# for column transformation\n",
    "from sklearn.compose import ColumnTransformer\n",
    "\n",
    "#pipeline\n",
    "from sklearn.pipeline import Pipeline"
   ]
  },
  {
   "cell_type": "code",
   "execution_count": 6,
   "id": "b1f0ce77-bf3d-46f0-bc1e-9b2105cc9665",
   "metadata": {},
   "outputs": [
    {
     "data": {
      "text/html": [
       "<div>\n",
       "<style scoped>\n",
       "    .dataframe tbody tr th:only-of-type {\n",
       "        vertical-align: middle;\n",
       "    }\n",
       "\n",
       "    .dataframe tbody tr th {\n",
       "        vertical-align: top;\n",
       "    }\n",
       "\n",
       "    .dataframe thead th {\n",
       "        text-align: right;\n",
       "    }\n",
       "</style>\n",
       "<table border=\"1\" class=\"dataframe\">\n",
       "  <thead>\n",
       "    <tr style=\"text-align: right;\">\n",
       "      <th></th>\n",
       "      <th>Company</th>\n",
       "      <th>Age</th>\n",
       "      <th>Salary</th>\n",
       "      <th>Place</th>\n",
       "      <th>Country</th>\n",
       "      <th>Gender</th>\n",
       "    </tr>\n",
       "  </thead>\n",
       "  <tbody>\n",
       "    <tr>\n",
       "      <th>0</th>\n",
       "      <td>TCS</td>\n",
       "      <td>20.0</td>\n",
       "      <td>NaN</td>\n",
       "      <td>Chennai</td>\n",
       "      <td>India</td>\n",
       "      <td>0</td>\n",
       "    </tr>\n",
       "    <tr>\n",
       "      <th>1</th>\n",
       "      <td>Infosys</td>\n",
       "      <td>30.0</td>\n",
       "      <td>NaN</td>\n",
       "      <td>Mumbai</td>\n",
       "      <td>India</td>\n",
       "      <td>0</td>\n",
       "    </tr>\n",
       "    <tr>\n",
       "      <th>2</th>\n",
       "      <td>TCS</td>\n",
       "      <td>35.0</td>\n",
       "      <td>2300.0</td>\n",
       "      <td>Calcutta</td>\n",
       "      <td>India</td>\n",
       "      <td>0</td>\n",
       "    </tr>\n",
       "    <tr>\n",
       "      <th>3</th>\n",
       "      <td>Infosys</td>\n",
       "      <td>40.0</td>\n",
       "      <td>3000.0</td>\n",
       "      <td>Delhi</td>\n",
       "      <td>India</td>\n",
       "      <td>0</td>\n",
       "    </tr>\n",
       "    <tr>\n",
       "      <th>4</th>\n",
       "      <td>TCS</td>\n",
       "      <td>23.0</td>\n",
       "      <td>4000.0</td>\n",
       "      <td>Mumbai</td>\n",
       "      <td>India</td>\n",
       "      <td>0</td>\n",
       "    </tr>\n",
       "  </tbody>\n",
       "</table>\n",
       "</div>"
      ],
      "text/plain": [
       "   Company   Age  Salary     Place Country  Gender\n",
       "0      TCS  20.0     NaN   Chennai   India       0\n",
       "1  Infosys  30.0     NaN    Mumbai   India       0\n",
       "2      TCS  35.0  2300.0  Calcutta   India       0\n",
       "3  Infosys  40.0  3000.0     Delhi   India       0\n",
       "4      TCS  23.0  4000.0    Mumbai   India       0"
      ]
     },
     "execution_count": 6,
     "metadata": {},
     "output_type": "execute_result"
    }
   ],
   "source": [
    "# laoding the dataset\n",
    "df = pd.read_csv('Employee (1).csv')\n",
    "df.head()"
   ]
  },
  {
   "cell_type": "markdown",
   "id": "bfba9d58-ba72-4bca-bd93-cf4d07640518",
   "metadata": {},
   "source": [
    "## Exercise 1"
   ]
  },
  {
   "cell_type": "raw",
   "id": "17ddcccf-be74-41f9-a94c-5ffc6b0551f2",
   "metadata": {},
   "source": [
    "\n",
    "Data Exploration: \n",
    "Explore the data, list down the unique values in each feature and find its length.\n",
    "Perform the statistical analysis and renaming of the columns.\n"
   ]
  },
  {
   "cell_type": "code",
   "execution_count": 7,
   "id": "49d07c7f-1d66-4a94-9d20-1b34d1c14a91",
   "metadata": {},
   "outputs": [
    {
     "name": "stdout",
     "output_type": "stream",
     "text": [
      "<class 'pandas.core.frame.DataFrame'>\n",
      "RangeIndex: 148 entries, 0 to 147\n",
      "Data columns (total 6 columns):\n",
      " #   Column   Non-Null Count  Dtype  \n",
      "---  ------   --------------  -----  \n",
      " 0   Company  140 non-null    object \n",
      " 1   Age      130 non-null    float64\n",
      " 2   Salary   124 non-null    float64\n",
      " 3   Place    134 non-null    object \n",
      " 4   Country  148 non-null    object \n",
      " 5   Gender   148 non-null    int64  \n",
      "dtypes: float64(2), int64(1), object(3)\n",
      "memory usage: 7.1+ KB\n"
     ]
    }
   ],
   "source": [
    "df_info = df.info()"
   ]
  },
  {
   "cell_type": "code",
   "execution_count": 15,
   "id": "e2988f7d-7ca9-4023-9c3a-f781eb694d25",
   "metadata": {},
   "outputs": [
    {
     "data": {
      "text/html": [
       "<div>\n",
       "<style scoped>\n",
       "    .dataframe tbody tr th:only-of-type {\n",
       "        vertical-align: middle;\n",
       "    }\n",
       "\n",
       "    .dataframe tbody tr th {\n",
       "        vertical-align: top;\n",
       "    }\n",
       "\n",
       "    .dataframe thead th {\n",
       "        text-align: right;\n",
       "    }\n",
       "</style>\n",
       "<table border=\"1\" class=\"dataframe\">\n",
       "  <thead>\n",
       "    <tr style=\"text-align: right;\">\n",
       "      <th></th>\n",
       "      <th>Company</th>\n",
       "      <th>Age</th>\n",
       "      <th>Salary</th>\n",
       "      <th>Place</th>\n",
       "      <th>Country</th>\n",
       "      <th>Gender</th>\n",
       "    </tr>\n",
       "  </thead>\n",
       "  <tbody>\n",
       "    <tr>\n",
       "      <th>0</th>\n",
       "      <td>TCS</td>\n",
       "      <td>20.0</td>\n",
       "      <td>NaN</td>\n",
       "      <td>Chennai</td>\n",
       "      <td>India</td>\n",
       "      <td>0</td>\n",
       "    </tr>\n",
       "    <tr>\n",
       "      <th>1</th>\n",
       "      <td>Infosys</td>\n",
       "      <td>30.0</td>\n",
       "      <td>NaN</td>\n",
       "      <td>Mumbai</td>\n",
       "      <td>India</td>\n",
       "      <td>0</td>\n",
       "    </tr>\n",
       "    <tr>\n",
       "      <th>2</th>\n",
       "      <td>TCS</td>\n",
       "      <td>35.0</td>\n",
       "      <td>2300.0</td>\n",
       "      <td>Calcutta</td>\n",
       "      <td>India</td>\n",
       "      <td>0</td>\n",
       "    </tr>\n",
       "    <tr>\n",
       "      <th>3</th>\n",
       "      <td>Infosys</td>\n",
       "      <td>40.0</td>\n",
       "      <td>3000.0</td>\n",
       "      <td>Delhi</td>\n",
       "      <td>India</td>\n",
       "      <td>0</td>\n",
       "    </tr>\n",
       "    <tr>\n",
       "      <th>4</th>\n",
       "      <td>TCS</td>\n",
       "      <td>23.0</td>\n",
       "      <td>4000.0</td>\n",
       "      <td>Mumbai</td>\n",
       "      <td>India</td>\n",
       "      <td>0</td>\n",
       "    </tr>\n",
       "  </tbody>\n",
       "</table>\n",
       "</div>"
      ],
      "text/plain": [
       "   Company   Age  Salary     Place Country  Gender\n",
       "0      TCS  20.0     NaN   Chennai   India       0\n",
       "1  Infosys  30.0     NaN    Mumbai   India       0\n",
       "2      TCS  35.0  2300.0  Calcutta   India       0\n",
       "3  Infosys  40.0  3000.0     Delhi   India       0\n",
       "4      TCS  23.0  4000.0    Mumbai   India       0"
      ]
     },
     "execution_count": 15,
     "metadata": {},
     "output_type": "execute_result"
    }
   ],
   "source": [
    "df_head = df.head()\n",
    "df_head"
   ]
  },
  {
   "cell_type": "code",
   "execution_count": 16,
   "id": "b4897499-5857-489e-a845-9f612a42959d",
   "metadata": {},
   "outputs": [
    {
     "data": {
      "text/plain": [
       "(148, 6)"
      ]
     },
     "execution_count": 16,
     "metadata": {},
     "output_type": "execute_result"
    }
   ],
   "source": [
    "df.shape "
   ]
  },
  {
   "cell_type": "code",
   "execution_count": 11,
   "id": "cfface25-2b3c-4358-a5ad-a29f5e577ac6",
   "metadata": {},
   "outputs": [
    {
     "data": {
      "text/plain": [
       "Company     8\n",
       "Age        18\n",
       "Salary     24\n",
       "Place      14\n",
       "Country     0\n",
       "Gender      0\n",
       "dtype: int64"
      ]
     },
     "execution_count": 11,
     "metadata": {},
     "output_type": "execute_result"
    }
   ],
   "source": [
    "df_missing = df.isnull().sum()\n",
    "df_missing"
   ]
  },
  {
   "cell_type": "code",
   "execution_count": 13,
   "id": "1752e4c5-9156-49b6-a318-cfbf0d2fcf36",
   "metadata": {},
   "outputs": [
    {
     "data": {
      "text/plain": [
       "4"
      ]
     },
     "execution_count": 13,
     "metadata": {},
     "output_type": "execute_result"
    }
   ],
   "source": [
    "df_duplicates = df.duplicated().sum()\n",
    "df_duplicates"
   ]
  },
  {
   "cell_type": "code",
   "execution_count": 17,
   "id": "0f9d3783-eebb-4520-8ff9-d6220ee428f1",
   "metadata": {},
   "outputs": [
    {
     "name": "stdout",
     "output_type": "stream",
     "text": [
      "Feature: Company\n",
      "Unique Values: ['TCS' 'Infosys' 'CTS' 'Tata Consultancy Services' 'Congnizant'\n",
      " 'Infosys Pvt Lmt']\n",
      "Number of Unique Values: 6\n",
      "\n",
      "Feature: Age\n",
      "Unique Values: [20. 30. 35. 40. 23. 34. 45. 18. 22. 32. 37. 50. 21. 46. 36. 26. 41. 24.\n",
      " 25. 43. 19. 38. 51. 31. 44. 33. 17.  0. 54.]\n",
      "Number of Unique Values: 29\n",
      "\n",
      "Feature: Salary\n",
      "Unique Values: [2300. 3000. 4000. 5000. 6000. 7000. 8000. 9000. 1089. 1234. 3030. 3045.\n",
      " 3184. 4824. 5835. 7084. 8943. 8345. 9284. 9876. 2034. 7654. 2934. 4034.\n",
      " 5034. 8202. 9024. 4345. 6544. 6543. 3234. 4324. 5435. 5555. 8787. 3454.\n",
      " 5654. 5009. 5098. 3033.]\n",
      "Number of Unique Values: 40\n",
      "\n",
      "Feature: Place\n",
      "Unique Values: ['Chennai' 'Mumbai' 'Calcutta' 'Delhi' 'Podicherry' 'Cochin' 'Noida'\n",
      " 'Hyderabad' 'Bhopal' 'Nagpur' 'Pune']\n",
      "Number of Unique Values: 11\n",
      "\n",
      "Feature: Country\n",
      "Unique Values: ['India']\n",
      "Number of Unique Values: 1\n",
      "\n",
      "Feature: Gender\n",
      "Unique Values: [0 1]\n",
      "Number of Unique Values: 2\n",
      "\n"
     ]
    }
   ],
   "source": [
    "# Get unique values and their counts for each column\n",
    "for col in df.columns:\n",
    "    unique_values = df[col].dropna().unique()  \n",
    "    unique_count = len(unique_values) \n",
    "    print(f\"Feature: {col}\")\n",
    "    print(f\"Unique Values: {unique_values}\")\n",
    "    print(f\"Number of Unique Values: {unique_count}\\n\")\n"
   ]
  },
  {
   "cell_type": "code",
   "execution_count": 18,
   "id": "5090d9b1-6907-48f0-8470-9eed01625225",
   "metadata": {},
   "outputs": [
    {
     "name": "stdout",
     "output_type": "stream",
     "text": [
      "Statistical Summary:\n",
      "\n"
     ]
    },
    {
     "data": {
      "text/html": [
       "<div>\n",
       "<style scoped>\n",
       "    .dataframe tbody tr th:only-of-type {\n",
       "        vertical-align: middle;\n",
       "    }\n",
       "\n",
       "    .dataframe tbody tr th {\n",
       "        vertical-align: top;\n",
       "    }\n",
       "\n",
       "    .dataframe thead th {\n",
       "        text-align: right;\n",
       "    }\n",
       "</style>\n",
       "<table border=\"1\" class=\"dataframe\">\n",
       "  <thead>\n",
       "    <tr style=\"text-align: right;\">\n",
       "      <th></th>\n",
       "      <th>Age</th>\n",
       "      <th>Salary</th>\n",
       "      <th>Gender</th>\n",
       "    </tr>\n",
       "  </thead>\n",
       "  <tbody>\n",
       "    <tr>\n",
       "      <th>count</th>\n",
       "      <td>130.000000</td>\n",
       "      <td>124.000000</td>\n",
       "      <td>148.000000</td>\n",
       "    </tr>\n",
       "    <tr>\n",
       "      <th>mean</th>\n",
       "      <td>30.484615</td>\n",
       "      <td>5312.467742</td>\n",
       "      <td>0.222973</td>\n",
       "    </tr>\n",
       "    <tr>\n",
       "      <th>std</th>\n",
       "      <td>11.096640</td>\n",
       "      <td>2573.764683</td>\n",
       "      <td>0.417654</td>\n",
       "    </tr>\n",
       "    <tr>\n",
       "      <th>min</th>\n",
       "      <td>0.000000</td>\n",
       "      <td>1089.000000</td>\n",
       "      <td>0.000000</td>\n",
       "    </tr>\n",
       "    <tr>\n",
       "      <th>25%</th>\n",
       "      <td>22.000000</td>\n",
       "      <td>3030.000000</td>\n",
       "      <td>0.000000</td>\n",
       "    </tr>\n",
       "    <tr>\n",
       "      <th>50%</th>\n",
       "      <td>32.500000</td>\n",
       "      <td>5000.000000</td>\n",
       "      <td>0.000000</td>\n",
       "    </tr>\n",
       "    <tr>\n",
       "      <th>75%</th>\n",
       "      <td>37.750000</td>\n",
       "      <td>8000.000000</td>\n",
       "      <td>0.000000</td>\n",
       "    </tr>\n",
       "    <tr>\n",
       "      <th>max</th>\n",
       "      <td>54.000000</td>\n",
       "      <td>9876.000000</td>\n",
       "      <td>1.000000</td>\n",
       "    </tr>\n",
       "  </tbody>\n",
       "</table>\n",
       "</div>"
      ],
      "text/plain": [
       "              Age       Salary      Gender\n",
       "count  130.000000   124.000000  148.000000\n",
       "mean    30.484615  5312.467742    0.222973\n",
       "std     11.096640  2573.764683    0.417654\n",
       "min      0.000000  1089.000000    0.000000\n",
       "25%     22.000000  3030.000000    0.000000\n",
       "50%     32.500000  5000.000000    0.000000\n",
       "75%     37.750000  8000.000000    0.000000\n",
       "max     54.000000  9876.000000    1.000000"
      ]
     },
     "execution_count": 18,
     "metadata": {},
     "output_type": "execute_result"
    }
   ],
   "source": [
    "# Display statistics\n",
    "print(\"Statistical Summary:\\n\")\n",
    "df.describe()"
   ]
  },
  {
   "cell_type": "code",
   "execution_count": 19,
   "id": "4da7b48a-2506-4cdb-adae-082e83283fed",
   "metadata": {},
   "outputs": [
    {
     "name": "stdout",
     "output_type": "stream",
     "text": [
      "Renamed Columns:\n",
      "Index(['company', 'age', 'salary', 'place', 'country', 'gender'], dtype='object')\n"
     ]
    }
   ],
   "source": [
    "# Rename columns: convert to lowercase and replace spaces with underscores\n",
    "df.columns = [col.strip().lower().replace(\" \", \"_\") for col in df.columns]\n",
    "\n",
    "print(\"Renamed Columns:\")\n",
    "print(df.columns)\n"
   ]
  },
  {
   "cell_type": "markdown",
   "id": "9f48136a-a0e5-445a-af25-3b4c82d29b5e",
   "metadata": {},
   "source": [
    "## Exercise 2"
   ]
  },
  {
   "cell_type": "raw",
   "id": "f9158efb-7838-4fad-99e8-326ce949260f",
   "metadata": {},
   "source": [
    "Data Cleaning: \n",
    "Find the missing and inappropriate values, treat them appropriately.\n",
    "Remove all duplicate rows.\n",
    "Find the outliers.\n",
    "Replace the value 0 in age as NaN\n",
    "Treat the null values in all columns using any measures(removing/ replace the values with mean/median/mode)\n"
   ]
  },
  {
   "cell_type": "code",
   "execution_count": 21,
   "id": "66a36abd-42bd-4be6-912d-cfab2b50edc6",
   "metadata": {},
   "outputs": [
    {
     "name": "stdout",
     "output_type": "stream",
     "text": [
      "Missing Values in Each Column:\n",
      "company     8\n",
      "age        18\n",
      "salary     24\n",
      "place      14\n",
      "country     0\n",
      "gender      0\n",
      "dtype: int64\n",
      "\n",
      "Rows where Age is 0 (Inappropriate Value):\n",
      "     company  age  salary       place country  gender\n",
      "88   Infosys  0.0  3030.0    Calcutta   India       0\n",
      "92       TCS  0.0  3045.0       Delhi   India       0\n",
      "101      CTS  0.0  2034.0  Podicherry   India       0\n",
      "107      TCS  0.0  9024.0     Chennai   India       1\n",
      "111  Infosys  0.0  3234.0      Mumbai   India       0\n",
      "121      CTS  0.0  1234.0    Calcutta   India       0\n"
     ]
    }
   ],
   "source": [
    "# Check for missing values\n",
    "print(\"Missing Values in Each Column:\")\n",
    "print(df.isnull().sum())\n",
    "\n",
    "# Check for inappropriate values \n",
    "print(\"\\nRows where Age is 0 (Inappropriate Value):\")\n",
    "print(df[df[\"age\"] == 0])\n"
   ]
  },
  {
   "cell_type": "code",
   "execution_count": 22,
   "id": "ab5ed7ef-5765-4b84-a539-ea50b2b47e5e",
   "metadata": {},
   "outputs": [
    {
     "name": "stdout",
     "output_type": "stream",
     "text": [
      "Number of Duplicate Rows: 4\n",
      "Remaining Duplicate Rows: 0\n"
     ]
    }
   ],
   "source": [
    "# Count duplicate rows\n",
    "duplicates = df.duplicated().sum()\n",
    "print(f\"Number of Duplicate Rows: {duplicates}\")\n",
    "\n",
    "# Remove duplicate rows\n",
    "df = df.drop_duplicates()\n",
    "\n",
    "# Confirm duplicate removal\n",
    "print(f\"Remaining Duplicate Rows: {df.duplicated().sum()}\")\n"
   ]
  },
  {
   "cell_type": "code",
   "execution_count": 23,
   "id": "f74538b1-b3d0-41a4-9ea1-40878b8a0473",
   "metadata": {},
   "outputs": [
    {
     "data": {
      "image/png": "[encoded data removed]",
      "text/plain": [
       "<Figure size 1000x500 with 2 Axes>"
      ]
     },
     "metadata": {},
     "output_type": "display_data"
    },
    {
     "name": "stdout",
     "output_type": "stream",
     "text": [
      "Outlier Counts:\n",
      "age       0\n",
      "salary    0\n",
      "dtype: int64\n"
     ]
    }
   ],
   "source": [
    "# Plot boxplots to visualize outliers in numerical columns\n",
    "numerical_cols = [\"age\", \"salary\"]\n",
    "\n",
    "plt.figure(figsize=(10, 5))\n",
    "for i, col in enumerate(numerical_cols, 1):\n",
    "    plt.subplot(1, 2, i)\n",
    "    sns.boxplot(y=df[col])\n",
    "    plt.title(f\"Boxplot of {col}\")\n",
    "plt.show()\n",
    "\n",
    "# Detect outliers using Interquartile Range (IQR)\n",
    "Q1 = df[numerical_cols].quantile(0.25)\n",
    "Q3 = df[numerical_cols].quantile(0.75)\n",
    "IQR = Q3 - Q1\n",
    "\n",
    "# Define outlier thresholds\n",
    "lower_bound = Q1 - 1.5 * IQR\n",
    "upper_bound = Q3 + 1.5 * IQR\n",
    "\n",
    "# Find outliers\n",
    "outliers = ((df[numerical_cols] < lower_bound) | (df[numerical_cols] > upper_bound))\n",
    "print(\"Outlier Counts:\")\n",
    "print(outliers.sum())\n"
   ]
  },
  {
   "cell_type": "code",
   "execution_count": 24,
   "id": "4055d37e-ebf5-4920-aa1b-c6155863731a",
   "metadata": {},
   "outputs": [
    {
     "name": "stdout",
     "output_type": "stream",
     "text": [
      "Missing Values After Replacing Age 0:\n",
      "23\n"
     ]
    }
   ],
   "source": [
    "# Replace age = 0 with NaN\n",
    "df[\"age\"] = df[\"age\"].replace(0, np.nan)\n",
    "\n",
    "# Check if age = 0 values are replaced\n",
    "print(\"Missing Values After Replacing Age 0:\")\n",
    "print(df[\"age\"].isnull().sum())\n"
   ]
  },
  {
   "cell_type": "code",
   "execution_count": 25,
   "id": "95ce5706-2797-4aca-879a-464de0e34b3e",
   "metadata": {},
   "outputs": [
    {
     "name": "stdout",
     "output_type": "stream",
     "text": [
      "Missing Values After Treatment:\n",
      "company    0\n",
      "age        0\n",
      "salary     0\n",
      "place      0\n",
      "country    0\n",
      "gender     0\n",
      "dtype: int64\n"
     ]
    },
    {
     "name": "stderr",
     "output_type": "stream",
     "text": [
      "C:\\Users\\amrut\\AppData\\Local\\Temp\\ipykernel_27172\\3844353756.py:2: FutureWarning: A value is trying to be set on a copy of a DataFrame or Series through chained assignment using an inplace method.\n",
      "The behavior will change in pandas 3.0. This inplace method will never work because the intermediate object on which we are setting values always behaves as a copy.\n",
      "\n",
      "For example, when doing 'df[col].method(value, inplace=True)', try using 'df.method({col: value}, inplace=True)' or df[col] = df[col].method(value) instead, to perform the operation inplace on the original object.\n",
      "\n",
      "\n",
      "  df[\"age\"].fillna(df[\"age\"].median(), inplace=True)\n",
      "C:\\Users\\amrut\\AppData\\Local\\Temp\\ipykernel_27172\\3844353756.py:3: FutureWarning: A value is trying to be set on a copy of a DataFrame or Series through chained assignment using an inplace method.\n",
      "The behavior will change in pandas 3.0. This inplace method will never work because the intermediate object on which we are setting values always behaves as a copy.\n",
      "\n",
      "For example, when doing 'df[col].method(value, inplace=True)', try using 'df.method({col: value}, inplace=True)' or df[col] = df[col].method(value) instead, to perform the operation inplace on the original object.\n",
      "\n",
      "\n",
      "  df[\"salary\"].fillna(df[\"salary\"].median(), inplace=True)\n",
      "C:\\Users\\amrut\\AppData\\Local\\Temp\\ipykernel_27172\\3844353756.py:6: FutureWarning: A value is trying to be set on a copy of a DataFrame or Series through chained assignment using an inplace method.\n",
      "The behavior will change in pandas 3.0. This inplace method will never work because the intermediate object on which we are setting values always behaves as a copy.\n",
      "\n",
      "For example, when doing 'df[col].method(value, inplace=True)', try using 'df.method({col: value}, inplace=True)' or df[col] = df[col].method(value) instead, to perform the operation inplace on the original object.\n",
      "\n",
      "\n",
      "  df[\"company\"].fillna(df[\"company\"].mode()[0], inplace=True)\n",
      "C:\\Users\\amrut\\AppData\\Local\\Temp\\ipykernel_27172\\3844353756.py:7: FutureWarning: A value is trying to be set on a copy of a DataFrame or Series through chained assignment using an inplace method.\n",
      "The behavior will change in pandas 3.0. This inplace method will never work because the intermediate object on which we are setting values always behaves as a copy.\n",
      "\n",
      "For example, when doing 'df[col].method(value, inplace=True)', try using 'df.method({col: value}, inplace=True)' or df[col] = df[col].method(value) instead, to perform the operation inplace on the original object.\n",
      "\n",
      "\n",
      "  df[\"place\"].fillna(df[\"place\"].mode()[0], inplace=True)\n"
     ]
    }
   ],
   "source": [
    "# Fill missing values in numerical columns with median\n",
    "df[\"age\"].fillna(df[\"age\"].median(), inplace=True)\n",
    "df[\"salary\"].fillna(df[\"salary\"].median(), inplace=True)\n",
    "\n",
    "# Fill missing values in categorical columns with mode\n",
    "df[\"company\"].fillna(df[\"company\"].mode()[0], inplace=True)\n",
    "df[\"place\"].fillna(df[\"place\"].mode()[0], inplace=True)\n",
    "\n",
    "# Confirm missing values are handled\n",
    "print(\"Missing Values After Treatment:\")\n",
    "print(df.isnull().sum())\n"
   ]
  },
  {
   "cell_type": "code",
   "execution_count": 28,
   "id": "cebd49d0-216a-4b35-8972-1df492895cee",
   "metadata": {},
   "outputs": [
    {
     "data": {
      "text/html": [
       "<div>\n",
       "<style scoped>\n",
       "    .dataframe tbody tr th:only-of-type {\n",
       "        vertical-align: middle;\n",
       "    }\n",
       "\n",
       "    .dataframe tbody tr th {\n",
       "        vertical-align: top;\n",
       "    }\n",
       "\n",
       "    .dataframe thead th {\n",
       "        text-align: right;\n",
       "    }\n",
       "</style>\n",
       "<table border=\"1\" class=\"dataframe\">\n",
       "  <thead>\n",
       "    <tr style=\"text-align: right;\">\n",
       "      <th></th>\n",
       "      <th>company</th>\n",
       "      <th>age</th>\n",
       "      <th>salary</th>\n",
       "      <th>place</th>\n",
       "      <th>country</th>\n",
       "      <th>gender</th>\n",
       "    </tr>\n",
       "  </thead>\n",
       "  <tbody>\n",
       "    <tr>\n",
       "      <th>0</th>\n",
       "      <td>TCS</td>\n",
       "      <td>20.0</td>\n",
       "      <td>5000.0</td>\n",
       "      <td>Chennai</td>\n",
       "      <td>India</td>\n",
       "      <td>0</td>\n",
       "    </tr>\n",
       "    <tr>\n",
       "      <th>1</th>\n",
       "      <td>Infosys</td>\n",
       "      <td>30.0</td>\n",
       "      <td>5000.0</td>\n",
       "      <td>Mumbai</td>\n",
       "      <td>India</td>\n",
       "      <td>0</td>\n",
       "    </tr>\n",
       "    <tr>\n",
       "      <th>2</th>\n",
       "      <td>TCS</td>\n",
       "      <td>35.0</td>\n",
       "      <td>2300.0</td>\n",
       "      <td>Calcutta</td>\n",
       "      <td>India</td>\n",
       "      <td>0</td>\n",
       "    </tr>\n",
       "    <tr>\n",
       "      <th>3</th>\n",
       "      <td>Infosys</td>\n",
       "      <td>40.0</td>\n",
       "      <td>3000.0</td>\n",
       "      <td>Delhi</td>\n",
       "      <td>India</td>\n",
       "      <td>0</td>\n",
       "    </tr>\n",
       "    <tr>\n",
       "      <th>4</th>\n",
       "      <td>TCS</td>\n",
       "      <td>23.0</td>\n",
       "      <td>4000.0</td>\n",
       "      <td>Mumbai</td>\n",
       "      <td>India</td>\n",
       "      <td>0</td>\n",
       "    </tr>\n",
       "  </tbody>\n",
       "</table>\n",
       "</div>"
      ],
      "text/plain": [
       "   company   age  salary     place country  gender\n",
       "0      TCS  20.0  5000.0   Chennai   India       0\n",
       "1  Infosys  30.0  5000.0    Mumbai   India       0\n",
       "2      TCS  35.0  2300.0  Calcutta   India       0\n",
       "3  Infosys  40.0  3000.0     Delhi   India       0\n",
       "4      TCS  23.0  4000.0    Mumbai   India       0"
      ]
     },
     "execution_count": 28,
     "metadata": {},
     "output_type": "execute_result"
    }
   ],
   "source": [
    "df.head()"
   ]
  },
  {
   "cell_type": "markdown",
   "id": "1992f05a-fd92-47bc-ab9c-52e9d0849b4c",
   "metadata": {},
   "source": [
    "## Exercise 3"
   ]
  },
  {
   "cell_type": "raw",
   "id": "fbd15690-bb7c-4b82-af3e-8a0432a92c62",
   "metadata": {},
   "source": [
    "Data Analysis: \n",
    "Filter the data with age >40 and salary<5000\n",
    "Plot the chart with age and salary\n",
    "Count the number of people from each place and represent it visually\n"
   ]
  },
  {
   "cell_type": "code",
   "execution_count": 29,
   "id": "19ac571b-d6a3-4eb7-9c0d-76686d7aadc0",
   "metadata": {},
   "outputs": [
    {
     "name": "stdout",
     "output_type": "stream",
     "text": [
      "Filtered Data (Age > 40 & Salary < 5000):\n",
      "     company   age  salary      place country  gender\n",
      "21   Infosys  50.0  3184.0      Delhi   India       0\n",
      "32   Infosys  45.0  4034.0   Calcutta   India       0\n",
      "39   Infosys  41.0  3000.0     Mumbai   India       0\n",
      "50   Infosys  41.0  3000.0    Chennai   India       0\n",
      "57   Infosys  51.0  3184.0  Hyderabad   India       0\n",
      "68   Infosys  43.0  4034.0     Mumbai   India       0\n",
      "75   Infosys  44.0  3000.0     Cochin   India       0\n",
      "86   Infosys  41.0  3000.0      Delhi   India       0\n",
      "93   Infosys  54.0  3184.0     Mumbai   India       0\n",
      "104  Infosys  44.0  4034.0      Delhi   India       0\n",
      "122  Infosys  44.0  3234.0     Mumbai   India       0\n",
      "129  Infosys  50.0  3184.0   Calcutta   India       0\n",
      "138      CTS  44.0  3033.0     Cochin   India       0\n",
      "140  Infosys  44.0  4034.0  Hyderabad   India       0\n",
      "145  Infosys  44.0  4034.0      Delhi   India       1\n"
     ]
    }
   ],
   "source": [
    "# Filter the dataset where age > 40 and salary < 5000\n",
    "filtered_df = df[(df[\"age\"] > 40) & (df[\"salary\"] < 5000)]\n",
    "\n",
    "# Display the filtered data\n",
    "print(\"Filtered Data (Age > 40 & Salary < 5000):\")\n",
    "print(filtered_df)\n"
   ]
  },
  {
   "cell_type": "code",
   "execution_count": 34,
   "id": "c759814b-8f9c-48bd-9caf-31b985bca44b",
   "metadata": {},
   "outputs": [
    {
     "data": {
      "image/png": "[encoded data removed]",
      "text/plain": [
       "<Figure size 800x500 with 1 Axes>"
      ]
     },
     "metadata": {},
     "output_type": "display_data"
    }
   ],
   "source": [
    "# Line plot of Age vs. Salary\n",
    "# Sort data by age to make the line plot more meaningful\n",
    "df_sorted = df.sort_values(by=\"age\")\n",
    "\n",
    "plt.figure(figsize=(8, 5))\n",
    "sns.lineplot(x=df_sorted[\"age\"], y=df_sorted[\"salary\"], marker=\"o\", color=\"red\")\n",
    "\n",
    "plt.xlabel(\"Age\")\n",
    "plt.ylabel(\"Salary\")\n",
    "plt.title(\"Age vs. Salary (Line Plot)\")\n",
    "plt.grid(True)\n",
    "\n",
    "plt.show()\n"
   ]
  },
  {
   "cell_type": "code",
   "execution_count": 32,
   "id": "3daadacb-d059-48ab-8169-443de459b67f",
   "metadata": {},
   "outputs": [
    {
     "name": "stderr",
     "output_type": "stream",
     "text": [
      "C:\\Users\\amrut\\AppData\\Local\\Temp\\ipykernel_27172\\2299774541.py:6: FutureWarning: \n",
      "\n",
      "Passing `palette` without assigning `hue` is deprecated and will be removed in v0.14.0. Assign the `x` variable to `hue` and set `legend=False` for the same effect.\n",
      "\n",
      "  sns.barplot(x=place_counts.index, y=place_counts.values, palette=\"viridis\")\n"
     ]
    },
    {
     "data": {
      "image/png": "[encoded data removed]",
      "text/plain": [
       "<Figure size 1000x500 with 1 Axes>"
      ]
     },
     "metadata": {},
     "output_type": "display_data"
    }
   ],
   "source": [
    "# Count number of people in each place\n",
    "place_counts = df[\"place\"].value_counts()\n",
    "\n",
    "# Bar plot\n",
    "plt.figure(figsize=(10, 5))\n",
    "sns.barplot(x=place_counts.index, y=place_counts.values, palette=\"viridis\")\n",
    "plt.xlabel(\"Place\")\n",
    "plt.ylabel(\"Number of People\")\n",
    "plt.title(\"Number of People from Each Place\")\n",
    "plt.xticks(rotation=45)  \n",
    "plt.show()\n"
   ]
  },
  {
   "cell_type": "markdown",
   "id": "f8912709-9c38-4431-867a-7bf4bab4d49d",
   "metadata": {},
   "source": [
    "## Exercise 4"
   ]
  },
  {
   "cell_type": "raw",
   "id": "4a996587-2af5-4bbe-8e1b-ab5eccdd5e02",
   "metadata": {},
   "source": [
    "Data Encoding: \n",
    "Convert categorical variables into numerical representations using techniques such as one-hot encoding, label encoding, making them suitable for analysis by machine learning algorithms.\n"
   ]
  },
  {
   "cell_type": "code",
   "execution_count": 35,
   "id": "b0825b46-59e7-4e3b-99a9-49613f928c6c",
   "metadata": {},
   "outputs": [
    {
     "name": "stdout",
     "output_type": "stream",
     "text": [
      "Categorical Columns: Index(['company', 'place', 'country'], dtype='object')\n"
     ]
    }
   ],
   "source": [
    "# Identify categorical columns\n",
    "categorical_cols = df.select_dtypes(include=['object']).columns\n",
    "print(\"Categorical Columns:\", categorical_cols)\n"
   ]
  },
  {
   "cell_type": "code",
   "execution_count": 47,
   "id": "2df8e3e8-5499-4634-8afa-5133bcd8bbc9",
   "metadata": {},
   "outputs": [
    {
     "name": "stdout",
     "output_type": "stream",
     "text": [
      "   gender\n",
      "0       0\n",
      "1       0\n",
      "2       0\n",
      "3       0\n",
      "4       0\n"
     ]
    }
   ],
   "source": [
    "# Label encode Gender (assuming values are 'Male - 0' and 'Female - 1')\n",
    "label_encoder = LabelEncoder()\n",
    "df[\"gender\"] = label_encoder.fit_transform(df[\"gender\"])\n",
    "\n",
    "print(df[[\"gender\"]].head())\n"
   ]
  },
  {
   "cell_type": "code",
   "execution_count": 54,
   "id": "f067f48d-ff4b-498e-9926-8fb403c009b0",
   "metadata": {},
   "outputs": [
    {
     "name": "stdout",
     "output_type": "stream",
     "text": [
      "    age  salary country  gender  company_Congnizant  company_Infosys  \\\n",
      "0  20.0  5000.0   India       0               False            False   \n",
      "1  30.0  5000.0   India       0               False             True   \n",
      "2  35.0  2300.0   India       0               False            False   \n",
      "3  40.0  3000.0   India       0               False             True   \n",
      "4  23.0  4000.0   India       0               False            False   \n",
      "\n",
      "   company_Infosys Pvt Lmt  company_TCS  company_Tata Consultancy Services  \\\n",
      "0                    False         True                              False   \n",
      "1                    False        False                              False   \n",
      "2                    False         True                              False   \n",
      "3                    False        False                              False   \n",
      "4                    False         True                              False   \n",
      "\n",
      "   place_Calcutta  ...  place_Calcutta  place_Chennai  place_Cochin  \\\n",
      "0           False  ...           False           True         False   \n",
      "1           False  ...           False          False         False   \n",
      "2            True  ...            True          False         False   \n",
      "3           False  ...           False          False         False   \n",
      "4           False  ...           False          False         False   \n",
      "\n",
      "   place_Delhi  place_Hyderabad  place_Mumbai  place_Nagpur  place_Noida  \\\n",
      "0        False            False         False         False        False   \n",
      "1        False            False          True         False        False   \n",
      "2        False            False         False         False        False   \n",
      "3         True            False         False         False        False   \n",
      "4        False            False          True         False        False   \n",
      "\n",
      "   place_Podicherry  place_Pune  \n",
      "0             False       False  \n",
      "1             False       False  \n",
      "2             False       False  \n",
      "3             False       False  \n",
      "4             False       False  \n",
      "\n",
      "[5 rows x 34 columns]\n"
     ]
    }
   ],
   "source": [
    "# One-Hot Encoding for 'company' and 'place' without modifying the original df\n",
    "df_encoded = df.copy()  # Create a copy of the original dataset\n",
    "\n",
    "# Apply One-Hot Encoding separately\n",
    "df_company = pd.get_dummies(df_encoded['company'], prefix=\"company\")\n",
    "df_place = pd.get_dummies(df_encoded['place'], prefix=\"place\")\n",
    "\n",
    "# Combine encoded columns into a new DataFrame (without modifying df)\n",
    "df_encoded = pd.concat([df_encoded, df_company, df_place], axis=1)\n",
    "\n",
    "# Display only the encoded data (excluding original categorical columns)\n",
    "df_one_hot = df_encoded.drop(columns=['company', 'place'])  # Drop only from encoded version\n",
    "\n",
    "# Show the first few rows of the one-hot encoded data\n",
    "print(df_one_hot.head())\n"
   ]
  },
  {
   "cell_type": "markdown",
   "id": "db517628-bce2-474c-b5ac-730ce4a0a9b6",
   "metadata": {},
   "source": [
    "## Exercise 5"
   ]
  },
  {
   "cell_type": "raw",
   "id": "0f301638-ddd2-469d-8691-58c2f76c5b84",
   "metadata": {},
   "source": [
    "Feature Scaling: \n",
    "After the process of encoding, perform the scaling of the features using standardscaler and minmaxscaler.\n"
   ]
  },
  {
   "cell_type": "code",
   "execution_count": 55,
   "id": "5217f2c6-754f-458d-b4c7-0bfb0ba28999",
   "metadata": {},
   "outputs": [],
   "source": [
    "df_standardized = df.copy()\n",
    "df_minmax_scaled = df.copy()"
   ]
  },
  {
   "cell_type": "code",
   "execution_count": 57,
   "id": "e87feb86-600a-4e6d-a04f-142f6d1bc3ec",
   "metadata": {},
   "outputs": [],
   "source": [
    "# Select numerical features (excluding categorical variables)\n",
    "num_cols = ['age', 'salary']\n",
    "\n",
    "# Initialize scalers\n",
    "standard_scaler = StandardScaler()\n",
    "minmax_scaler = MinMaxScaler()\n",
    "\n",
    "# Apply StandardScaler (Z-score normalization)\n",
    "df_standardized[num_cols] = standard_scaler.fit_transform(df_standardized[num_cols])\n",
    "\n",
    "# Apply MinMaxScaler (scales values between 0 and 1)\n",
    "df_minmax_scaled[num_cols] = minmax_scaler.fit_transform(df_minmax_scaled[num_cols])\n"
   ]
  },
  {
   "cell_type": "code",
   "execution_count": 58,
   "id": "f01b3b29-3372-476e-bcf5-9d6e137f5d10",
   "metadata": {},
   "outputs": [
    {
     "name": "stdout",
     "output_type": "stream",
     "text": [
      "Standard Scaled Data (Z-score normalization):\n",
      "        age    salary country  gender  company_Congnizant  company_Infosys  \\\n",
      "0 -1.484676 -0.100827   India       0               False            False   \n",
      "1 -0.267174 -0.100827   India       0               False             True   \n",
      "2  0.341577 -1.243735   India       0               False            False   \n",
      "3  0.950328 -0.947426   India       0               False             True   \n",
      "4 -1.119426 -0.524127   India       0               False            False   \n",
      "\n",
      "   company_Infosys Pvt Lmt  company_TCS  company_Tata Consultancy Services  \\\n",
      "0                    False         True                              False   \n",
      "1                    False        False                              False   \n",
      "2                    False         True                              False   \n",
      "3                    False        False                              False   \n",
      "4                    False         True                              False   \n",
      "\n",
      "   place_Calcutta  ...  place_Cochin  place_Delhi  place_Hyderabad  \\\n",
      "0           False  ...         False        False            False   \n",
      "1           False  ...         False        False            False   \n",
      "2            True  ...         False        False            False   \n",
      "3           False  ...         False         True            False   \n",
      "4           False  ...         False        False            False   \n",
      "\n",
      "   place_Mumbai  place_Nagpur  place_Noida  place_Podicherry  place_Pune  \\\n",
      "0         False         False        False             False       False   \n",
      "1          True         False        False             False       False   \n",
      "2         False         False        False             False       False   \n",
      "3         False         False        False             False       False   \n",
      "4          True         False        False             False       False   \n",
      "\n",
      "   company     place  \n",
      "0      TCS   Chennai  \n",
      "1  Infosys    Mumbai  \n",
      "2      TCS  Calcutta  \n",
      "3  Infosys     Delhi  \n",
      "4      TCS    Mumbai  \n",
      "\n",
      "[5 rows x 21 columns]\n",
      "\n",
      "Min-Max Scaled Data (0 to 1 scaling):\n",
      "        age    salary country  gender  company_Congnizant  company_Infosys  \\\n",
      "0  0.081081  0.445089   India       0               False            False   \n",
      "1  0.351351  0.445089   India       0               False             True   \n",
      "2  0.486486  0.137817   India       0               False            False   \n",
      "3  0.621622  0.217480   India       0               False             True   \n",
      "4  0.162162  0.331285   India       0               False            False   \n",
      "\n",
      "   company_Infosys Pvt Lmt  company_TCS  company_Tata Consultancy Services  \\\n",
      "0                    False         True                              False   \n",
      "1                    False        False                              False   \n",
      "2                    False         True                              False   \n",
      "3                    False        False                              False   \n",
      "4                    False         True                              False   \n",
      "\n",
      "   place_Calcutta  ...  place_Cochin  place_Delhi  place_Hyderabad  \\\n",
      "0           False  ...         False        False            False   \n",
      "1           False  ...         False        False            False   \n",
      "2            True  ...         False        False            False   \n",
      "3           False  ...         False         True            False   \n",
      "4           False  ...         False        False            False   \n",
      "\n",
      "   place_Mumbai  place_Nagpur  place_Noida  place_Podicherry  place_Pune  \\\n",
      "0         False         False        False             False       False   \n",
      "1          True         False        False             False       False   \n",
      "2         False         False        False             False       False   \n",
      "3         False         False        False             False       False   \n",
      "4          True         False        False             False       False   \n",
      "\n",
      "   company     place  \n",
      "0      TCS   Chennai  \n",
      "1  Infosys    Mumbai  \n",
      "2      TCS  Calcutta  \n",
      "3  Infosys     Delhi  \n",
      "4      TCS    Mumbai  \n",
      "\n",
      "[5 rows x 21 columns]\n"
     ]
    }
   ],
   "source": [
    "print(\"Standard Scaled Data (Z-score normalization):\")\n",
    "print(df_standardized.head())\n",
    "\n",
    "print(\"\\nMin-Max Scaled Data (0 to 1 scaling):\")\n",
    "print(df_minmax_scaled.head())\n"
   ]
  },
  {
   "cell_type": "code",
   "execution_count": null,
   "id": "0034540f-64da-4f6d-be26-97c7af1edcbf",
   "metadata": {},
   "outputs": [],
   "source": []
  }
 ],
 "metadata": {
  "kernelspec": {
   "display_name": "Python 3 (ipykernel)",
   "language": "python",
   "name": "python3"
  },
  "language_info": {
   "codemirror_mode": {
    "name": "ipython",
    "version": 3
   },
   "file_extension": ".py",
   "mimetype": "text/x-python",
   "name": "python",
   "nbconvert_exporter": "python",
   "pygments_lexer": "ipython3",
   "version": "3.12.7"
  }
 },
 "nbformat": 4,
 "nbformat_minor": 5
}
