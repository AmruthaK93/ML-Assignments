{
 "cells": [
  {
   "cell_type": "code",
   "execution_count": 1,
   "id": "b66f23a6-25d3-42bb-a196-744f3b36fc19",
   "metadata": {},
   "outputs": [],
   "source": [
    "import pandas as pd\n",
    "import numpy as np\n",
    "import matplotlib.pyplot as plt\n",
    "import seaborn as sns\n",
    "from sklearn.model_selection import train_test_split"
   ]
  },
  {
   "cell_type": "code",
   "execution_count": 14,
   "id": "210cb8e5-d81e-4173-91fa-d9505b87adff",
   "metadata": {},
   "outputs": [],
   "source": [
    "\n",
    "from sklearn.preprocessing import StandardScaler\n",
    "from sklearn.linear_model import LinearRegression\n",
    "from sklearn.metrics import mean_absolute_error, mean_squared_error, r2_score \n",
    "from sklearn.datasets import  fetch_california_housing "
   ]
  },
  {
   "cell_type": "markdown",
   "id": "083c06f0-8dc8-4cba-9437-2997ce485021",
   "metadata": {},
   "source": [
    "## 1 . Loading and Preprocessing "
   ]
  },
  {
   "cell_type": "raw",
   "id": "ffb456dc-dee7-45ca-92be-f6c25418ebe4",
   "metadata": {},
   "source": [
    "\n",
    "* Load the California Housing dataset using the fetch_california_housing function from sklearn.\n",
    "* Convert the dataset into a pandas DataFrame for easier handling.\n",
    "* Handle missing values (if any) and perform necessary feature scaling (e.g., standardization).\n",
    "* Explain the preprocessing steps you performed and justify why they are necessary for this dataset.\n"
   ]
  },
  {
   "cell_type": "code",
   "execution_count": 4,
   "id": "b4124a86-eef6-4fce-8ac1-ac82bad74ed7",
   "metadata": {},
   "outputs": [],
   "source": [
    "california_housing = fetch_california_housing ()\n",
    "X, y = california_housing.data, california_housing.target"
   ]
  },
  {
   "cell_type": "code",
   "execution_count": 5,
   "id": "8cb9171b-fe43-4542-b3f6-ea24fc5fdfef",
   "metadata": {},
   "outputs": [
    {
     "data": {
      "text/plain": [
       "array([[   8.3252    ,   41.        ,    6.98412698, ...,    2.55555556,\n",
       "          37.88      , -122.23      ],\n",
       "       [   8.3014    ,   21.        ,    6.23813708, ...,    2.10984183,\n",
       "          37.86      , -122.22      ],\n",
       "       [   7.2574    ,   52.        ,    8.28813559, ...,    2.80225989,\n",
       "          37.85      , -122.24      ],\n",
       "       ...,\n",
       "       [   1.7       ,   17.        ,    5.20554273, ...,    2.3256351 ,\n",
       "          39.43      , -121.22      ],\n",
       "       [   1.8672    ,   18.        ,    5.32951289, ...,    2.12320917,\n",
       "          39.43      , -121.32      ],\n",
       "       [   2.3886    ,   16.        ,    5.25471698, ...,    2.61698113,\n",
       "          39.37      , -121.24      ]])"
      ]
     },
     "execution_count": 5,
     "metadata": {},
     "output_type": "execute_result"
    }
   ],
   "source": [
    "X"
   ]
  },
  {
   "cell_type": "code",
   "execution_count": 6,
   "id": "38283266-f6db-41b2-9900-8ff162dc2399",
   "metadata": {},
   "outputs": [
    {
     "data": {
      "text/plain": [
       "array([4.526, 3.585, 3.521, ..., 0.923, 0.847, 0.894])"
      ]
     },
     "execution_count": 6,
     "metadata": {},
     "output_type": "execute_result"
    }
   ],
   "source": [
    "y"
   ]
  },
  {
   "cell_type": "code",
   "execution_count": 7,
   "id": "d8228631-ad43-4e7a-95c1-2bf915526776",
   "metadata": {},
   "outputs": [
    {
     "data": {
      "text/plain": [
       "['MedInc',\n",
       " 'HouseAge',\n",
       " 'AveRooms',\n",
       " 'AveBedrms',\n",
       " 'Population',\n",
       " 'AveOccup',\n",
       " 'Latitude',\n",
       " 'Longitude']"
      ]
     },
     "execution_count": 7,
     "metadata": {},
     "output_type": "execute_result"
    }
   ],
   "source": [
    "california_housing.feature_names"
   ]
  },
  {
   "cell_type": "code",
   "execution_count": 8,
   "id": "9e8fb8ca-8054-498e-94f1-9177954acf65",
   "metadata": {},
   "outputs": [
    {
     "data": {
      "text/html": [
       "<div>\n",
       "<style scoped>\n",
       "    .dataframe tbody tr th:only-of-type {\n",
       "        vertical-align: middle;\n",
       "    }\n",
       "\n",
       "    .dataframe tbody tr th {\n",
       "        vertical-align: top;\n",
       "    }\n",
       "\n",
       "    .dataframe thead th {\n",
       "        text-align: right;\n",
       "    }\n",
       "</style>\n",
       "<table border=\"1\" class=\"dataframe\">\n",
       "  <thead>\n",
       "    <tr style=\"text-align: right;\">\n",
       "      <th></th>\n",
       "      <th>MedInc</th>\n",
       "      <th>HouseAge</th>\n",
       "      <th>AveRooms</th>\n",
       "      <th>AveBedrms</th>\n",
       "      <th>Population</th>\n",
       "      <th>AveOccup</th>\n",
       "      <th>Latitude</th>\n",
       "      <th>Longitude</th>\n",
       "      <th>target</th>\n",
       "    </tr>\n",
       "  </thead>\n",
       "  <tbody>\n",
       "    <tr>\n",
       "      <th>0</th>\n",
       "      <td>8.3252</td>\n",
       "      <td>41.0</td>\n",
       "      <td>6.984127</td>\n",
       "      <td>1.023810</td>\n",
       "      <td>322.0</td>\n",
       "      <td>2.555556</td>\n",
       "      <td>37.88</td>\n",
       "      <td>-122.23</td>\n",
       "      <td>4.526</td>\n",
       "    </tr>\n",
       "    <tr>\n",
       "      <th>1</th>\n",
       "      <td>8.3014</td>\n",
       "      <td>21.0</td>\n",
       "      <td>6.238137</td>\n",
       "      <td>0.971880</td>\n",
       "      <td>2401.0</td>\n",
       "      <td>2.109842</td>\n",
       "      <td>37.86</td>\n",
       "      <td>-122.22</td>\n",
       "      <td>3.585</td>\n",
       "    </tr>\n",
       "    <tr>\n",
       "      <th>2</th>\n",
       "      <td>7.2574</td>\n",
       "      <td>52.0</td>\n",
       "      <td>8.288136</td>\n",
       "      <td>1.073446</td>\n",
       "      <td>496.0</td>\n",
       "      <td>2.802260</td>\n",
       "      <td>37.85</td>\n",
       "      <td>-122.24</td>\n",
       "      <td>3.521</td>\n",
       "    </tr>\n",
       "    <tr>\n",
       "      <th>3</th>\n",
       "      <td>5.6431</td>\n",
       "      <td>52.0</td>\n",
       "      <td>5.817352</td>\n",
       "      <td>1.073059</td>\n",
       "      <td>558.0</td>\n",
       "      <td>2.547945</td>\n",
       "      <td>37.85</td>\n",
       "      <td>-122.25</td>\n",
       "      <td>3.413</td>\n",
       "    </tr>\n",
       "    <tr>\n",
       "      <th>4</th>\n",
       "      <td>3.8462</td>\n",
       "      <td>52.0</td>\n",
       "      <td>6.281853</td>\n",
       "      <td>1.081081</td>\n",
       "      <td>565.0</td>\n",
       "      <td>2.181467</td>\n",
       "      <td>37.85</td>\n",
       "      <td>-122.25</td>\n",
       "      <td>3.422</td>\n",
       "    </tr>\n",
       "    <tr>\n",
       "      <th>...</th>\n",
       "      <td>...</td>\n",
       "      <td>...</td>\n",
       "      <td>...</td>\n",
       "      <td>...</td>\n",
       "      <td>...</td>\n",
       "      <td>...</td>\n",
       "      <td>...</td>\n",
       "      <td>...</td>\n",
       "      <td>...</td>\n",
       "    </tr>\n",
       "    <tr>\n",
       "      <th>20635</th>\n",
       "      <td>1.5603</td>\n",
       "      <td>25.0</td>\n",
       "      <td>5.045455</td>\n",
       "      <td>1.133333</td>\n",
       "      <td>845.0</td>\n",
       "      <td>2.560606</td>\n",
       "      <td>39.48</td>\n",
       "      <td>-121.09</td>\n",
       "      <td>0.781</td>\n",
       "    </tr>\n",
       "    <tr>\n",
       "      <th>20636</th>\n",
       "      <td>2.5568</td>\n",
       "      <td>18.0</td>\n",
       "      <td>6.114035</td>\n",
       "      <td>1.315789</td>\n",
       "      <td>356.0</td>\n",
       "      <td>3.122807</td>\n",
       "      <td>39.49</td>\n",
       "      <td>-121.21</td>\n",
       "      <td>0.771</td>\n",
       "    </tr>\n",
       "    <tr>\n",
       "      <th>20637</th>\n",
       "      <td>1.7000</td>\n",
       "      <td>17.0</td>\n",
       "      <td>5.205543</td>\n",
       "      <td>1.120092</td>\n",
       "      <td>1007.0</td>\n",
       "      <td>2.325635</td>\n",
       "      <td>39.43</td>\n",
       "      <td>-121.22</td>\n",
       "      <td>0.923</td>\n",
       "    </tr>\n",
       "    <tr>\n",
       "      <th>20638</th>\n",
       "      <td>1.8672</td>\n",
       "      <td>18.0</td>\n",
       "      <td>5.329513</td>\n",
       "      <td>1.171920</td>\n",
       "      <td>741.0</td>\n",
       "      <td>2.123209</td>\n",
       "      <td>39.43</td>\n",
       "      <td>-121.32</td>\n",
       "      <td>0.847</td>\n",
       "    </tr>\n",
       "    <tr>\n",
       "      <th>20639</th>\n",
       "      <td>2.3886</td>\n",
       "      <td>16.0</td>\n",
       "      <td>5.254717</td>\n",
       "      <td>1.162264</td>\n",
       "      <td>1387.0</td>\n",
       "      <td>2.616981</td>\n",
       "      <td>39.37</td>\n",
       "      <td>-121.24</td>\n",
       "      <td>0.894</td>\n",
       "    </tr>\n",
       "  </tbody>\n",
       "</table>\n",
       "<p>20640 rows × 9 columns</p>\n",
       "</div>"
      ],
      "text/plain": [
       "       MedInc  HouseAge  AveRooms  AveBedrms  Population  AveOccup  Latitude  \\\n",
       "0      8.3252      41.0  6.984127   1.023810       322.0  2.555556     37.88   \n",
       "1      8.3014      21.0  6.238137   0.971880      2401.0  2.109842     37.86   \n",
       "2      7.2574      52.0  8.288136   1.073446       496.0  2.802260     37.85   \n",
       "3      5.6431      52.0  5.817352   1.073059       558.0  2.547945     37.85   \n",
       "4      3.8462      52.0  6.281853   1.081081       565.0  2.181467     37.85   \n",
       "...       ...       ...       ...        ...         ...       ...       ...   \n",
       "20635  1.5603      25.0  5.045455   1.133333       845.0  2.560606     39.48   \n",
       "20636  2.5568      18.0  6.114035   1.315789       356.0  3.122807     39.49   \n",
       "20637  1.7000      17.0  5.205543   1.120092      1007.0  2.325635     39.43   \n",
       "20638  1.8672      18.0  5.329513   1.171920       741.0  2.123209     39.43   \n",
       "20639  2.3886      16.0  5.254717   1.162264      1387.0  2.616981     39.37   \n",
       "\n",
       "       Longitude  target  \n",
       "0        -122.23   4.526  \n",
       "1        -122.22   3.585  \n",
       "2        -122.24   3.521  \n",
       "3        -122.25   3.413  \n",
       "4        -122.25   3.422  \n",
       "...          ...     ...  \n",
       "20635    -121.09   0.781  \n",
       "20636    -121.21   0.771  \n",
       "20637    -121.22   0.923  \n",
       "20638    -121.32   0.847  \n",
       "20639    -121.24   0.894  \n",
       "\n",
       "[20640 rows x 9 columns]"
      ]
     },
     "execution_count": 8,
     "metadata": {},
     "output_type": "execute_result"
    }
   ],
   "source": [
    "# Covertig this to a Dataframe\n",
    "\n",
    "df = pd.DataFrame(X,columns = california_housing.feature_names)\n",
    "df['target'] = y\n",
    "\n",
    "df"
   ]
  },
  {
   "cell_type": "code",
   "execution_count": 9,
   "id": "6f3d8d67-20a3-46b1-815d-9af675e18d8e",
   "metadata": {},
   "outputs": [
    {
     "data": {
      "text/html": [
       "<div>\n",
       "<style scoped>\n",
       "    .dataframe tbody tr th:only-of-type {\n",
       "        vertical-align: middle;\n",
       "    }\n",
       "\n",
       "    .dataframe tbody tr th {\n",
       "        vertical-align: top;\n",
       "    }\n",
       "\n",
       "    .dataframe thead th {\n",
       "        text-align: right;\n",
       "    }\n",
       "</style>\n",
       "<table border=\"1\" class=\"dataframe\">\n",
       "  <thead>\n",
       "    <tr style=\"text-align: right;\">\n",
       "      <th></th>\n",
       "      <th>MedInc</th>\n",
       "      <th>HouseAge</th>\n",
       "      <th>AveRooms</th>\n",
       "      <th>AveBedrms</th>\n",
       "      <th>Population</th>\n",
       "      <th>AveOccup</th>\n",
       "      <th>Latitude</th>\n",
       "      <th>Longitude</th>\n",
       "      <th>target</th>\n",
       "    </tr>\n",
       "  </thead>\n",
       "  <tbody>\n",
       "    <tr>\n",
       "      <th>0</th>\n",
       "      <td>8.3252</td>\n",
       "      <td>41.0</td>\n",
       "      <td>6.984127</td>\n",
       "      <td>1.023810</td>\n",
       "      <td>322.0</td>\n",
       "      <td>2.555556</td>\n",
       "      <td>37.88</td>\n",
       "      <td>-122.23</td>\n",
       "      <td>4.526</td>\n",
       "    </tr>\n",
       "    <tr>\n",
       "      <th>1</th>\n",
       "      <td>8.3014</td>\n",
       "      <td>21.0</td>\n",
       "      <td>6.238137</td>\n",
       "      <td>0.971880</td>\n",
       "      <td>2401.0</td>\n",
       "      <td>2.109842</td>\n",
       "      <td>37.86</td>\n",
       "      <td>-122.22</td>\n",
       "      <td>3.585</td>\n",
       "    </tr>\n",
       "    <tr>\n",
       "      <th>2</th>\n",
       "      <td>7.2574</td>\n",
       "      <td>52.0</td>\n",
       "      <td>8.288136</td>\n",
       "      <td>1.073446</td>\n",
       "      <td>496.0</td>\n",
       "      <td>2.802260</td>\n",
       "      <td>37.85</td>\n",
       "      <td>-122.24</td>\n",
       "      <td>3.521</td>\n",
       "    </tr>\n",
       "    <tr>\n",
       "      <th>3</th>\n",
       "      <td>5.6431</td>\n",
       "      <td>52.0</td>\n",
       "      <td>5.817352</td>\n",
       "      <td>1.073059</td>\n",
       "      <td>558.0</td>\n",
       "      <td>2.547945</td>\n",
       "      <td>37.85</td>\n",
       "      <td>-122.25</td>\n",
       "      <td>3.413</td>\n",
       "    </tr>\n",
       "    <tr>\n",
       "      <th>4</th>\n",
       "      <td>3.8462</td>\n",
       "      <td>52.0</td>\n",
       "      <td>6.281853</td>\n",
       "      <td>1.081081</td>\n",
       "      <td>565.0</td>\n",
       "      <td>2.181467</td>\n",
       "      <td>37.85</td>\n",
       "      <td>-122.25</td>\n",
       "      <td>3.422</td>\n",
       "    </tr>\n",
       "  </tbody>\n",
       "</table>\n",
       "</div>"
      ],
      "text/plain": [
       "   MedInc  HouseAge  AveRooms  AveBedrms  Population  AveOccup  Latitude  \\\n",
       "0  8.3252      41.0  6.984127   1.023810       322.0  2.555556     37.88   \n",
       "1  8.3014      21.0  6.238137   0.971880      2401.0  2.109842     37.86   \n",
       "2  7.2574      52.0  8.288136   1.073446       496.0  2.802260     37.85   \n",
       "3  5.6431      52.0  5.817352   1.073059       558.0  2.547945     37.85   \n",
       "4  3.8462      52.0  6.281853   1.081081       565.0  2.181467     37.85   \n",
       "\n",
       "   Longitude  target  \n",
       "0    -122.23   4.526  \n",
       "1    -122.22   3.585  \n",
       "2    -122.24   3.521  \n",
       "3    -122.25   3.413  \n",
       "4    -122.25   3.422  "
      ]
     },
     "execution_count": 9,
     "metadata": {},
     "output_type": "execute_result"
    }
   ],
   "source": [
    "df.head()"
   ]
  },
  {
   "cell_type": "code",
   "execution_count": 11,
   "id": "90066aa1-e853-40c3-8998-6cda79324745",
   "metadata": {},
   "outputs": [
    {
     "name": "stdout",
     "output_type": "stream",
     "text": [
      "<class 'pandas.core.frame.DataFrame'>\n",
      "RangeIndex: 20640 entries, 0 to 20639\n",
      "Data columns (total 9 columns):\n",
      " #   Column      Non-Null Count  Dtype  \n",
      "---  ------      --------------  -----  \n",
      " 0   MedInc      20640 non-null  float64\n",
      " 1   HouseAge    20640 non-null  float64\n",
      " 2   AveRooms    20640 non-null  float64\n",
      " 3   AveBedrms   20640 non-null  float64\n",
      " 4   Population  20640 non-null  float64\n",
      " 5   AveOccup    20640 non-null  float64\n",
      " 6   Latitude    20640 non-null  float64\n",
      " 7   Longitude   20640 non-null  float64\n",
      " 8   target      20640 non-null  float64\n",
      "dtypes: float64(9)\n",
      "memory usage: 1.4 MB\n"
     ]
    }
   ],
   "source": [
    "df.info()"
   ]
  },
  {
   "cell_type": "code",
   "execution_count": 13,
   "id": "dec611d5-295e-457e-ab97-d9a9b3312259",
   "metadata": {},
   "outputs": [
    {
     "data": {
      "text/plain": [
       "0"
      ]
     },
     "execution_count": 13,
     "metadata": {},
     "output_type": "execute_result"
    }
   ],
   "source": [
    "# checking for duplicates\n",
    "df.duplicated().sum()"
   ]
  },
  {
   "cell_type": "code",
   "execution_count": 15,
   "id": "3d869233-7907-4aa4-9c16-a9b4b183ebc8",
   "metadata": {},
   "outputs": [
    {
     "name": "stdout",
     "output_type": "stream",
     "text": [
      "     MedInc  HouseAge  AveRooms  AveBedrms  Population  AveOccup  Latitude  \\\n",
      "0  2.344766  0.982143  0.628559  -0.153758   -0.974429 -0.049597  1.052548   \n",
      "1  2.332238 -0.607019  0.327041  -0.263336    0.861439 -0.092512  1.043185   \n",
      "2  1.782699  1.856182  1.155620  -0.049016   -0.820777 -0.025843  1.038503   \n",
      "3  0.932968  1.856182  0.156966  -0.049833   -0.766028 -0.050329  1.038503   \n",
      "4 -0.012881  1.856182  0.344711  -0.032906   -0.759847 -0.085616  1.038503   \n",
      "\n",
      "   Longitude  target  \n",
      "0  -1.327835   4.526  \n",
      "1  -1.322844   3.585  \n",
      "2  -1.332827   3.521  \n",
      "3  -1.337818   3.413  \n",
      "4  -1.337818   3.422  \n"
     ]
    }
   ],
   "source": [
    "# Standardize feature columns (excluding target)\n",
    "\n",
    "scaler = StandardScaler()\n",
    "df_scaled = df.copy()\n",
    "df_scaled[df.columns[:-1]] = scaler.fit_transform(df[df.columns[:-1]])\n",
    "\n",
    "# Display first few rows of scaled data\n",
    "print(df_scaled.head())\n"
   ]
  },
  {
   "cell_type": "raw",
   "id": "29e4fd13-53f0-479a-b8d9-8557876aa483",
   "metadata": {},
   "source": [
    "Preprocessing Explanation\n",
    "\n",
    "Loading and Conversion:\n",
    "We used fetch_california_housing() to load the data and then converted it into a pandas.DataFrame for easier manipulation, visualization, and analysis.\n",
    "\n",
    "Missing Values:\n",
    "After checking with df.isnull().sum(), we confirmed there are no missing values. Therefore, we skipped any imputation steps.\n",
    "\n",
    "Feature Scaling (Standardization):\n",
    "We applied standardization using StandardScaler() from sklearn.preprocessing, which transforms each feature to have zero mean and unit variance.\n",
    "This is important because:\n",
    "\n",
    "Many machine learning algorithms are sensitive to feature scales.\n",
    "\n",
    "It ensures that features like Population and MedInc are on comparable scales, preventing domination of one over others."
   ]
  },
  {
   "cell_type": "markdown",
   "id": "e9f37724-2393-4666-b390-a51ab6321b9b",
   "metadata": {},
   "source": [
    "## 2. Regression Algorithm Implementation "
   ]
  },
  {
   "cell_type": "raw",
   "id": "57bb5a4b-3ff8-490f-a191-39ed880904bd",
   "metadata": {},
   "source": [
    "\n",
    "Implement the following regression algorithms:\n",
    "\n",
    "* Linear Regression\n",
    "* Decision Tree Regressor\n",
    "* Random Forest Regressor\n",
    "* Gradient Boosting Regressor\n",
    "* Support Vector Regressor (SVR)\n",
    "\n",
    " For each algorithm:\n",
    "Provide a brief explanation of how it works.\n",
    "Explain why it might be suitable for this dataset.\n"
   ]
  },
  {
   "cell_type": "code",
   "execution_count": 17,
   "id": "5b887a86-ac48-4e3d-81dc-d6774cb4687d",
   "metadata": {},
   "outputs": [],
   "source": [
    "# Train-Test Split\n",
    "\n",
    "# Features and target\n",
    "X = df_scaled.drop('target', axis=1)\n",
    "y = df_scaled['target']\n",
    "\n",
    "# Split into train and test sets\n",
    "X_train, X_test, y_train, y_test = train_test_split(X, y, test_size=0.2, random_state=42)\n"
   ]
  },
  {
   "cell_type": "raw",
   "id": "f9ab6840-5e4d-4b32-82f5-1781464fbaf7",
   "metadata": {},
   "source": [
    " 1. Linear Regression\n",
    "\n",
    "How It Works:\n",
    "Linear Regression models the relationship between the features and target using a straight line. It finds the best-fit line by minimizing the mean squared error between actual and predicted values.\n",
    "\n",
    "Why It's Suitable:\n",
    "Easy to interpret\n",
    "Works well when there is a linear relationship between the target and features\n",
    "Good baseline model"
   ]
  },
  {
   "cell_type": "raw",
   "id": "97c47d10-0a72-4e05-9405-da2ce804988b",
   "metadata": {},
   "source": [
    "2️.  Decision Tree Regressor\n",
    "\n",
    "How It Works:\n",
    "A Decision Tree splits the data based on feature thresholds that reduce prediction error the most. It builds a tree structure to make decisions.\n",
    "\n",
    "Why It's Suitable:\n",
    "Handles non-linear relationships well\n",
    "Easy to visualize and understand\n",
    "Doesn’t require feature scaling (but we already scaled)"
   ]
  },
  {
   "cell_type": "raw",
   "id": "f49b1a1d-775e-4f5a-942c-d6eed806880f",
   "metadata": {},
   "source": [
    "3. Random Forest Regressor\n",
    "\n",
    "How It Works:\n",
    "An ensemble of decision trees where each tree is trained on a random subset of data and features. The final prediction is the average of all trees.\n",
    "\n",
    "Why It's Suitable:\n",
    "Handles complex, non-linear patterns\n",
    "Reduces overfitting compared to a single tree\n",
    "Very powerful for structured/tabular data"
   ]
  },
  {
   "cell_type": "raw",
   "id": "9c7fff7d-34e8-42dd-b319-31030cf5a7eb",
   "metadata": {},
   "source": [
    "4. Gradient Boosting Regressor\n",
    "\n",
    "How It Works:\n",
    "Builds trees sequentially, with each tree trying to correct the errors made by the previous ones. It uses gradient descent to minimize loss.\n",
    "\n",
    " Why It's Suitable:\n",
    "High accuracy\n",
    "Handles complex relationships well\n",
    "Great for tabular data with mixed feature importance"
   ]
  },
  {
   "cell_type": "raw",
   "id": "3cd10668-6272-4720-b677-708aaca34d4a",
   "metadata": {},
   "source": [
    "5️. Support Vector Regressor (SVR)\n",
    "\n",
    "How It Works:\n",
    "SVR tries to fit the best line within a margin (epsilon) so that most data points fall within this region. It's based on support vector machines and uses kernels to handle non-linearity.\n",
    "\n",
    "Why It's Suitable:\n",
    "Can capture complex relationships using kernels (e.g., RBF)\n",
    "Effective for small- to medium-sized datasets\n",
    "Requires feature scaling (which we've done)"
   ]
  },
  {
   "cell_type": "code",
   "execution_count": 23,
   "id": "5c06fef1-b5b8-4ebf-a9c5-c122ebf33d10",
   "metadata": {},
   "outputs": [],
   "source": [
    "# Evaluation function\n",
    "def evaluate_model(y_actual, y_pred, model_name):\n",
    "    print(f\"{model_name} Performance:\")\n",
    "    print(\"MAE:\", mean_absolute_error(y_actual, y_pred))\n",
    "    print(\"MSE:\", mean_squared_error(y_actual, y_pred))\n",
    "    print(\"R2 Score:\", r2_score(y_actual, y_pred))\n",
    "    print(\"\\n\")\n"
   ]
  },
  {
   "cell_type": "code",
   "execution_count": 24,
   "id": "eb061937-1114-4f77-b05f-844d4a413fff",
   "metadata": {},
   "outputs": [
    {
     "name": "stdout",
     "output_type": "stream",
     "text": [
      "Linear Regression Performance:\n",
      "MAE: 0.5332001304956565\n",
      "MSE: 0.5558915986952442\n",
      "R2 Score: 0.575787706032451\n",
      "\n",
      "\n",
      "Decision Tree Regressor Performance:\n",
      "MAE: 0.4537843265503876\n",
      "MSE: 0.4942716777366763\n",
      "R2 Score: 0.6228111330554302\n",
      "\n",
      "\n",
      "Random Forest Regressor Performance:\n",
      "MAE: 0.32761306601259704\n",
      "MSE: 0.25549776668540763\n",
      "R2 Score: 0.805024407701793\n",
      "\n",
      "\n",
      "Gradient Boosting Regressor Performance:\n",
      "MAE: 0.37165044848436773\n",
      "MSE: 0.29399901242474274\n",
      "R2 Score: 0.7756433164710084\n",
      "\n",
      "\n",
      "Support Vector Regressor (SVR) Performance:\n",
      "MAE: 0.397763096343787\n",
      "MSE: 0.3551984619989429\n",
      "R2 Score: 0.7289407597956454\n",
      "\n",
      "\n"
     ]
    }
   ],
   "source": [
    "from sklearn.linear_model import LinearRegression\n",
    "from sklearn.tree import DecisionTreeRegressor\n",
    "from sklearn.ensemble import RandomForestRegressor, GradientBoostingRegressor\n",
    "from sklearn.svm import SVR\n",
    "\n",
    "# 1. Linear Regression\n",
    "lr = LinearRegression()\n",
    "lr.fit(X_train, y_train)\n",
    "y_pred_lr = lr.predict(X_test)\n",
    "evaluate_model(y_test, y_pred_lr, \"Linear Regression\")\n",
    "\n",
    "# 2. Decision Tree Regressor\n",
    "dt = DecisionTreeRegressor(random_state=42)\n",
    "dt.fit(X_train, y_train)\n",
    "y_pred_dt = dt.predict(X_test)\n",
    "evaluate_model(y_test, y_pred_dt, \"Decision Tree Regressor\")\n",
    "\n",
    "# 3. Random Forest Regressor\n",
    "rf = RandomForestRegressor(n_estimators=100, random_state=42)\n",
    "rf.fit(X_train, y_train)\n",
    "y_pred_rf = rf.predict(X_test)\n",
    "evaluate_model(y_test, y_pred_rf, \"Random Forest Regressor\")\n",
    "\n",
    "# 4. Gradient Boosting Regressor\n",
    "gb = GradientBoostingRegressor(n_estimators=100, learning_rate=0.1, random_state=42)\n",
    "gb.fit(X_train, y_train)\n",
    "y_pred_gb = gb.predict(X_test)\n",
    "evaluate_model(y_test, y_pred_gb, \"Gradient Boosting Regressor\")\n",
    "\n",
    "# 5. Support Vector Regressor (SVR)\n",
    "svr = SVR(kernel='rbf')\n",
    "svr.fit(X_train, y_train)\n",
    "y_pred_svr = svr.predict(X_test)\n",
    "evaluate_model(y_test, y_pred_svr, \"Support Vector Regressor (SVR)\")\n"
   ]
  },
  {
   "cell_type": "markdown",
   "id": "c27f93b1-2b0b-4bb4-adf1-ebae520d79de",
   "metadata": {},
   "source": [
    "## 3. Model Evaluation and Comparison "
   ]
  },
  {
   "cell_type": "raw",
   "id": "08bc1202-e10e-4c64-9e51-a08766487fed",
   "metadata": {},
   "source": [
    "Evaluate the performance of each algorithm using the following metrics:\n",
    "\n",
    "* Mean Squared Error (MSE)\n",
    "* Mean Absolute Error (MAE)\n",
    "* R-squared Score (R²)\n",
    "\n",
    "Compare the results of all models and identify:\n",
    "\n",
    "* The best-performing algorithm with justification.\n",
    "* The worst-performing algorithm with reasoning.\n"
   ]
  },
  {
   "cell_type": "code",
   "execution_count": 26,
   "id": "5fa1cc8f-a8af-4063-8ac3-d156116bd37a",
   "metadata": {},
   "outputs": [],
   "source": [
    "# Define Evaluation Function (Storing Metrics)\n",
    "\n",
    "results = []\n",
    "\n",
    "def evaluate_model(y_actual, y_pred, model_name):\n",
    "    mae = mean_absolute_error(y_actual, y_pred)\n",
    "    mse = mean_squared_error(y_actual, y_pred)\n",
    "    r2 = r2_score(y_actual, y_pred)\n",
    "    \n",
    "    results.append({\n",
    "        'Model': model_name,\n",
    "        'MAE': mae,\n",
    "        'MSE': mse,\n",
    "        'R2 Score': r2\n",
    "    })\n",
    "    \n",
    "    print(f\"{model_name} Performance:\")\n",
    "    print(f\"MAE: {mae:.4f}\")\n",
    "    print(f\"MSE: {mse:.4f}\")\n",
    "    print(f\"R² Score: {r2:.4f}\\n\")\n"
   ]
  },
  {
   "cell_type": "code",
   "execution_count": 27,
   "id": "800a8f23-de41-49ed-a7ab-ddeabfc6290d",
   "metadata": {},
   "outputs": [
    {
     "name": "stdout",
     "output_type": "stream",
     "text": [
      "Linear Regression Performance:\n",
      "MAE: 0.5332\n",
      "MSE: 0.5559\n",
      "R² Score: 0.5758\n",
      "\n",
      "Decision Tree Regressor Performance:\n",
      "MAE: 0.4538\n",
      "MSE: 0.4943\n",
      "R² Score: 0.6228\n",
      "\n",
      "Random Forest Regressor Performance:\n",
      "MAE: 0.3276\n",
      "MSE: 0.2555\n",
      "R² Score: 0.8050\n",
      "\n",
      "Gradient Boosting Regressor Performance:\n",
      "MAE: 0.3717\n",
      "MSE: 0.2940\n",
      "R² Score: 0.7756\n",
      "\n",
      "Support Vector Regressor Performance:\n",
      "MAE: 0.3978\n",
      "MSE: 0.3552\n",
      "R² Score: 0.7289\n",
      "\n"
     ]
    }
   ],
   "source": [
    "# Train and Evaluate All Models\n",
    "\n",
    "# Linear Regression\n",
    "lr = LinearRegression()\n",
    "lr.fit(X_train, y_train)\n",
    "y_pred_lr = lr.predict(X_test)\n",
    "evaluate_model(y_test, y_pred_lr, \"Linear Regression\")\n",
    "\n",
    "# Decision Tree\n",
    "dt = DecisionTreeRegressor(random_state=42)\n",
    "dt.fit(X_train, y_train)\n",
    "y_pred_dt = dt.predict(X_test)\n",
    "evaluate_model(y_test, y_pred_dt, \"Decision Tree Regressor\")\n",
    "\n",
    "# Random Forest\n",
    "rf = RandomForestRegressor(n_estimators=100, random_state=42)\n",
    "rf.fit(X_train, y_train)\n",
    "y_pred_rf = rf.predict(X_test)\n",
    "evaluate_model(y_test, y_pred_rf, \"Random Forest Regressor\")\n",
    "\n",
    "# Gradient Boosting\n",
    "gb = GradientBoostingRegressor(n_estimators=100, learning_rate=0.1, random_state=42)\n",
    "gb.fit(X_train, y_train)\n",
    "y_pred_gb = gb.predict(X_test)\n",
    "evaluate_model(y_test, y_pred_gb, \"Gradient Boosting Regressor\")\n",
    "\n",
    "# SVR\n",
    "svr = SVR(kernel='rbf')\n",
    "svr.fit(X_train, y_train)\n",
    "y_pred_svr = svr.predict(X_test)\n",
    "evaluate_model(y_test, y_pred_svr, \"Support Vector Regressor\")\n"
   ]
  },
  {
   "cell_type": "code",
   "execution_count": 29,
   "id": "8c88dc59-c620-4d25-a2cb-1110250cb06f",
   "metadata": {},
   "outputs": [
    {
     "name": "stdout",
     "output_type": "stream",
     "text": [
      "                         Model       MAE       MSE  R2 Score\n",
      "0      Random Forest Regressor  0.327613  0.255498  0.805024\n",
      "1  Gradient Boosting Regressor  0.371650  0.293999  0.775643\n",
      "2     Support Vector Regressor  0.397763  0.355198  0.728941\n",
      "3      Decision Tree Regressor  0.453784  0.494272  0.622811\n",
      "4            Linear Regression  0.533200  0.555892  0.575788\n"
     ]
    }
   ],
   "source": [
    "#  Display Model Comparison Table\n",
    "\n",
    "# Create results DataFrame\n",
    "results_df = pd.DataFrame(results)\n",
    "results_df = results_df.sort_values(by='R2 Score', ascending=False)\n",
    "results_df.reset_index(drop=True, inplace=True)\n",
    "\n",
    "print(results_df)\n"
   ]
  },
  {
   "cell_type": "raw",
   "id": "b9ef7e0b-2d2a-45d4-9043-3dcb0103effe",
   "metadata": {},
   "source": [
    " Best-Performing Algorithm: Random Forest Regressor\n",
    "\n",
    "Justification:\n",
    "\n",
    "Achieved the highest R² score of 0.805, meaning it explains over 80% of the variance in the housing prices.\n",
    "Has the lowest MSE (0.255) and lowest MAE (0.327), indicating more accurate predictions with less average error.\n",
    "Random Forest is an ensemble model that reduces overfitting and captures complex, non-linear relationships—making it very suitable for real-world housing data where many features interact in intricate ways."
   ]
  },
  {
   "cell_type": "raw",
   "id": "4a4df530-2010-42cf-900a-21b83d231e30",
   "metadata": {},
   "source": [
    " Worst-Performing Algorithm: Linear Regression\n",
    "\n",
    "Reasoning:\n",
    "\n",
    "Shows the lowest R² score of 0.575, meaning it explains only 57% of the variance—significantly less than others.\n",
    "Also has the highest MAE (0.533) and highest MSE (0.556) among all models.\n",
    "Linear Regression assumes a linear relationship between features and the target, which is too simplistic for housing data, where non-linear interactions and complex patterns are common."
   ]
  },
  {
   "cell_type": "code",
   "execution_count": null,
   "id": "00f28e6c-8476-4773-a531-067d5a0f6e1a",
   "metadata": {},
   "outputs": [],
   "source": []
  }
 ],
 "metadata": {
  "kernelspec": {
   "display_name": "Python 3 (ipykernel)",
   "language": "python",
   "name": "python3"
  },
  "language_info": {
   "codemirror_mode": {
    "name": "ipython",
    "version": 3
   },
   "file_extension": ".py",
   "mimetype": "text/x-python",
   "name": "python",
   "nbconvert_exporter": "python",
   "pygments_lexer": "ipython3",
   "version": "3.12.7"
  }
 },
 "nbformat": 4,
 "nbformat_minor": 5
}
